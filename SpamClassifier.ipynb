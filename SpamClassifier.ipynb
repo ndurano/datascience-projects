{
 "cells": [
  {
   "cell_type": "code",
   "execution_count": 3,
   "metadata": {
    "collapsed": true
   },
   "outputs": [],
   "source": [
    "import os #Provides a portable way of using operating system dependent functionality\n",
    "import io #It provides the python interfaces to stream handling\n",
    "import numpy #A fundamental package for scientific computing\n",
    "from pandas import DataFrame\n",
    "from sklearn.feature_extraction.text import CountVectorizer\n",
    "from sklearn.naive_bayes import MultinomialNB\n",
    "\n",
    "def readFiles(path):\n",
    "#This function iterates through every single file in a directory. It uses the os.walk function to find all the files \n",
    "#in the directory and build up a full path for each individual line and reads it in.\n",
    "#While reading it in, it skips the header of each email and because we are only interested in the body\n",
    "\n",
    "    for root, dirnames, filenames in os.walk(path):\n",
    "        for filename in filenames:\n",
    "            path = os.path.join(root, filename)\n",
    "            \n",
    "            \n",
    "            inBody = False\n",
    "            lines = []\n",
    "            f = io.open(path, 'r', encoding = 'latin1' )\n",
    "            \n",
    "            for line in f:\n",
    "                if inBody:\n",
    "                    lines.append(line)\n",
    "                elif line == '\\n':\n",
    "                    inBody = True\n",
    "                    \n",
    "            f.close()\n",
    "            \n",
    "            message = '\\n'.join(lines)\n",
    "            yield path, message\n",
    "            \n",
    "            \n",
    "def dataFrameFromDirectory(path, classification):\n",
    "    rows = []\n",
    "    index = []\n",
    "    \n",
    "    for filename, message in readFiles(path):\n",
    "        rows.append({'message':message, 'class': classification})\n",
    "        index.append(filename)\n",
    "            \n",
    "    return DataFrame(rows, index=index)\n",
    "\n",
    "\n",
    "data = DataFrame({'message':[], 'class': []}) #creates a data frame(database) that has 2 columns, one containing message, actual content of email and the other containing the class, spam or ham\n",
    "\n",
    "#The methods below will throw in emails from the spam and ham directories i.e populating the database created above \n",
    "data = data.append(dataFrameFromDirectory('/home/norman/Desktop/Data science/spam classifier/spam', 'spam'))\n",
    "data = data.append(dataFrameFromDirectory('/home/norman/Desktop/Data science/spam classifier/ham', 'ham'))\n",
    "            \n",
    "            \n",
    "    "
   ]
  },
  {
   "cell_type": "code",
   "execution_count": 4,
   "metadata": {
    "collapsed": false
   },
   "outputs": [
    {
     "data": {
      "text/html": [
       "<div>\n",
       "<table border=\"1\" class=\"dataframe\">\n",
       "  <thead>\n",
       "    <tr style=\"text-align: right;\">\n",
       "      <th></th>\n",
       "      <th>class</th>\n",
       "      <th>message</th>\n",
       "    </tr>\n",
       "  </thead>\n",
       "  <tbody>\n",
       "    <tr>\n",
       "      <th>/home/norman/Desktop/Data science/spam classifier/spam/00301.68fe7955b96d085360ca916289e8e716</th>\n",
       "      <td>spam</td>\n",
       "      <td>*** FREE BONUS OFFER - SEE BELOW ***\\n\\n\\n\\nWe...</td>\n",
       "    </tr>\n",
       "    <tr>\n",
       "      <th>/home/norman/Desktop/Data science/spam classifier/spam/00266.3cf1dcf8df07100b1530493e11f80a25</th>\n",
       "      <td>spam</td>\n",
       "      <td>&lt;!DOCTYPE HTML PUBLIC \"-//W3C//DTD HTML 4.0 Tr...</td>\n",
       "    </tr>\n",
       "    <tr>\n",
       "      <th>/home/norman/Desktop/Data science/spam classifier/spam/00273.0c7d73771d79e84e2aab8c909c5bb210</th>\n",
       "      <td>spam</td>\n",
       "      <td>This is a multi-part message in MIME format.\\n...</td>\n",
       "    </tr>\n",
       "    <tr>\n",
       "      <th>/home/norman/Desktop/Data science/spam classifier/spam/00120.58579af867ff9a702cff23e7b8818a59</th>\n",
       "      <td>spam</td>\n",
       "      <td>This is a multi-part message in MIME format.\\n...</td>\n",
       "    </tr>\n",
       "    <tr>\n",
       "      <th>/home/norman/Desktop/Data science/spam classifier/spam/00115.c97af50ef7ccd816f95bbdc6f4d226b2</th>\n",
       "      <td>spam</td>\n",
       "      <td>------=_NextPart_000_00C3_65E56B8D.B3612A36\\n\\...</td>\n",
       "    </tr>\n",
       "  </tbody>\n",
       "</table>\n",
       "</div>"
      ],
      "text/plain": [
       "                                                   class  \\\n",
       "/home/norman/Desktop/Data science/spam classifi...  spam   \n",
       "/home/norman/Desktop/Data science/spam classifi...  spam   \n",
       "/home/norman/Desktop/Data science/spam classifi...  spam   \n",
       "/home/norman/Desktop/Data science/spam classifi...  spam   \n",
       "/home/norman/Desktop/Data science/spam classifi...  spam   \n",
       "\n",
       "                                                                                              message  \n",
       "/home/norman/Desktop/Data science/spam classifi...  *** FREE BONUS OFFER - SEE BELOW ***\\n\\n\\n\\nWe...  \n",
       "/home/norman/Desktop/Data science/spam classifi...  <!DOCTYPE HTML PUBLIC \"-//W3C//DTD HTML 4.0 Tr...  \n",
       "/home/norman/Desktop/Data science/spam classifi...  This is a multi-part message in MIME format.\\n...  \n",
       "/home/norman/Desktop/Data science/spam classifi...  This is a multi-part message in MIME format.\\n...  \n",
       "/home/norman/Desktop/Data science/spam classifi...  ------=_NextPart_000_00C3_65E56B8D.B3612A36\\n\\...  "
      ]
     },
     "execution_count": 4,
     "metadata": {},
     "output_type": "execute_result"
    }
   ],
   "source": [
    "data.head()"
   ]
  },
  {
   "cell_type": "code",
   "execution_count": 5,
   "metadata": {
    "collapsed": false
   },
   "outputs": [
    {
     "data": {
      "text/plain": [
       "MultinomialNB(alpha=1.0, class_prior=None, fit_prior=True)"
      ]
     },
     "execution_count": 5,
     "metadata": {},
     "output_type": "execute_result"
    }
   ],
   "source": [
    "#MultinomialNB function is used to perform Naive Bayes on the data that we have\n",
    "#It expects two inputs; a list of words in each email and the number of times that word occurs\n",
    "vectorizer = CountVectorizer()\n",
    "counts = vectorizer.fit_transform(data['message'].values)\n",
    "\n",
    "#takes all the values from the message column and pass it to vectorizer.fit_transform\n",
    "#this tokenizes all individual words into values and then counts how many each word occurs\n",
    "#target is the actual classification for each email\n",
    "\n",
    "classifier = MultinomialNB()\n",
    "targets = data['class'].values\n",
    "classifier.fit(counts,targets)"
   ]
  },
  {
   "cell_type": "code",
   "execution_count": 6,
   "metadata": {
    "collapsed": false
   },
   "outputs": [
    {
     "data": {
      "text/plain": [
       "array(['ham', 'ham'], \n",
       "      dtype='|S4')"
      ]
     },
     "execution_count": 6,
     "metadata": {},
     "output_type": "execute_result"
    }
   ],
   "source": [
    "example = ['Free python classes everyday of the week', \"Hey dude, how about linking up over the weekend\"]\n",
    "example_counts = vectorizer.transform(example)\n",
    "output = classifier.predict(example_counts)\n",
    "output"
   ]
  },
  {
   "cell_type": "code",
   "execution_count": 7,
   "metadata": {
    "collapsed": false
   },
   "outputs": [
    {
     "data": {
      "text/plain": [
       "array(['spam', 'ham'], \n",
       "      dtype='|S4')"
      ]
     },
     "execution_count": 7,
     "metadata": {},
     "output_type": "execute_result"
    }
   ],
   "source": [
    "example2 = ['Free Offer Bonus Now !!!!', \"Siz, Mother wants to talk to you urgently\"]\n",
    "example2_counts = vectorizer.transform(example2)\n",
    "prediction = classifier.predict(example2_counts)\n",
    "prediction"
   ]
  },
  {
   "cell_type": "code",
   "execution_count": null,
   "metadata": {
    "collapsed": true
   },
   "outputs": [],
   "source": []
  }
 ],
 "metadata": {
  "kernelspec": {
   "display_name": "Python 2",
   "language": "python",
   "name": "python2"
  },
  "language_info": {
   "codemirror_mode": {
    "name": "ipython",
    "version": 2
   },
   "file_extension": ".py",
   "mimetype": "text/x-python",
   "name": "python",
   "nbconvert_exporter": "python",
   "pygments_lexer": "ipython2",
   "version": "2.7.11"
  }
 },
 "nbformat": 4,
 "nbformat_minor": 0
}
